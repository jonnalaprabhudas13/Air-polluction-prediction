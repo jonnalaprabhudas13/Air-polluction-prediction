{
 "cells": [
  {
   "cell_type": "code",
   "execution_count": 1,
   "id": "3944c248",
   "metadata": {
    "_cell_guid": "b1076dfc-b9ad-4769-8c92-a6c4dae69d19",
    "_uuid": "8f2839f25d086af736a60e9eeb907d3b93b6e0e5",
    "execution": {
     "iopub.execute_input": "2025-01-17T09:02:52.891625Z",
     "iopub.status.busy": "2025-01-17T09:02:52.891255Z",
     "iopub.status.idle": "2025-01-17T09:02:53.978135Z",
     "shell.execute_reply": "2025-01-17T09:02:53.976911Z"
    },
    "papermill": {
     "duration": 1.095863,
     "end_time": "2025-01-17T09:02:53.980279",
     "exception": false,
     "start_time": "2025-01-17T09:02:52.884416",
     "status": "completed"
    },
    "tags": []
   },
   "outputs": [],
   "source": [
    "\n",
    "import numpy as np\n",
    "import pandas as pd \n",
    "\n",
    "import os\n",
    "for dirname, _, filenames in os.walk('/kaggle/input'):\n",
    "    for filename in filenames:\n",
    "        print(os.path.join(dirname, filename))"
   ]
  },
  {
   "cell_type": "code",
   "execution_count": 3,
   "id": "74256959",
   "metadata": {
    "execution": {
     "iopub.execute_input": "2025-01-17T09:02:53.992481Z",
     "iopub.status.busy": "2025-01-17T09:02:53.991967Z",
     "iopub.status.idle": "2025-01-17T09:02:54.057515Z",
     "shell.execute_reply": "2025-01-17T09:02:54.056359Z"
    },
    "papermill": {
     "duration": 0.073674,
     "end_time": "2025-01-17T09:02:54.059487",
     "exception": false,
     "start_time": "2025-01-17T09:02:53.985813",
     "status": "completed"
    },
    "tags": []
   },
   "outputs": [
    {
     "data": {
      "text/html": [
       "<div>\n",
       "<style scoped>\n",
       "    .dataframe tbody tr th:only-of-type {\n",
       "        vertical-align: middle;\n",
       "    }\n",
       "\n",
       "    .dataframe tbody tr th {\n",
       "        vertical-align: top;\n",
       "    }\n",
       "\n",
       "    .dataframe thead th {\n",
       "        text-align: right;\n",
       "    }\n",
       "</style>\n",
       "<table border=\"1\" class=\"dataframe\">\n",
       "  <thead>\n",
       "    <tr style=\"text-align: right;\">\n",
       "      <th></th>\n",
       "      <th>Temperature</th>\n",
       "      <th>Humidity</th>\n",
       "      <th>PM2.5</th>\n",
       "      <th>PM10</th>\n",
       "      <th>NO2</th>\n",
       "      <th>SO2</th>\n",
       "      <th>CO</th>\n",
       "      <th>Proximity_to_Industrial_Areas</th>\n",
       "      <th>Population_Density</th>\n",
       "      <th>Air Quality</th>\n",
       "    </tr>\n",
       "  </thead>\n",
       "  <tbody>\n",
       "    <tr>\n",
       "      <th>0</th>\n",
       "      <td>29.8</td>\n",
       "      <td>59.1</td>\n",
       "      <td>5.2</td>\n",
       "      <td>17.9</td>\n",
       "      <td>18.9</td>\n",
       "      <td>9.2</td>\n",
       "      <td>1.72</td>\n",
       "      <td>6.3</td>\n",
       "      <td>319</td>\n",
       "      <td>Moderate</td>\n",
       "    </tr>\n",
       "    <tr>\n",
       "      <th>1</th>\n",
       "      <td>28.3</td>\n",
       "      <td>75.6</td>\n",
       "      <td>2.3</td>\n",
       "      <td>12.2</td>\n",
       "      <td>30.8</td>\n",
       "      <td>9.7</td>\n",
       "      <td>1.64</td>\n",
       "      <td>6.0</td>\n",
       "      <td>611</td>\n",
       "      <td>Moderate</td>\n",
       "    </tr>\n",
       "    <tr>\n",
       "      <th>2</th>\n",
       "      <td>23.1</td>\n",
       "      <td>74.7</td>\n",
       "      <td>26.7</td>\n",
       "      <td>33.8</td>\n",
       "      <td>24.4</td>\n",
       "      <td>12.6</td>\n",
       "      <td>1.63</td>\n",
       "      <td>5.2</td>\n",
       "      <td>619</td>\n",
       "      <td>Moderate</td>\n",
       "    </tr>\n",
       "    <tr>\n",
       "      <th>3</th>\n",
       "      <td>27.1</td>\n",
       "      <td>39.1</td>\n",
       "      <td>6.1</td>\n",
       "      <td>6.3</td>\n",
       "      <td>13.5</td>\n",
       "      <td>5.3</td>\n",
       "      <td>1.15</td>\n",
       "      <td>11.1</td>\n",
       "      <td>551</td>\n",
       "      <td>Good</td>\n",
       "    </tr>\n",
       "    <tr>\n",
       "      <th>4</th>\n",
       "      <td>26.5</td>\n",
       "      <td>70.7</td>\n",
       "      <td>6.9</td>\n",
       "      <td>16.0</td>\n",
       "      <td>21.9</td>\n",
       "      <td>5.6</td>\n",
       "      <td>1.01</td>\n",
       "      <td>12.7</td>\n",
       "      <td>303</td>\n",
       "      <td>Good</td>\n",
       "    </tr>\n",
       "    <tr>\n",
       "      <th>...</th>\n",
       "      <td>...</td>\n",
       "      <td>...</td>\n",
       "      <td>...</td>\n",
       "      <td>...</td>\n",
       "      <td>...</td>\n",
       "      <td>...</td>\n",
       "      <td>...</td>\n",
       "      <td>...</td>\n",
       "      <td>...</td>\n",
       "      <td>...</td>\n",
       "    </tr>\n",
       "    <tr>\n",
       "      <th>4995</th>\n",
       "      <td>40.6</td>\n",
       "      <td>74.1</td>\n",
       "      <td>116.0</td>\n",
       "      <td>126.7</td>\n",
       "      <td>45.5</td>\n",
       "      <td>25.7</td>\n",
       "      <td>2.11</td>\n",
       "      <td>2.8</td>\n",
       "      <td>765</td>\n",
       "      <td>Hazardous</td>\n",
       "    </tr>\n",
       "    <tr>\n",
       "      <th>4996</th>\n",
       "      <td>28.1</td>\n",
       "      <td>96.9</td>\n",
       "      <td>6.9</td>\n",
       "      <td>25.0</td>\n",
       "      <td>25.3</td>\n",
       "      <td>10.8</td>\n",
       "      <td>1.54</td>\n",
       "      <td>5.7</td>\n",
       "      <td>709</td>\n",
       "      <td>Moderate</td>\n",
       "    </tr>\n",
       "    <tr>\n",
       "      <th>4997</th>\n",
       "      <td>25.9</td>\n",
       "      <td>78.2</td>\n",
       "      <td>14.2</td>\n",
       "      <td>22.1</td>\n",
       "      <td>34.8</td>\n",
       "      <td>7.8</td>\n",
       "      <td>1.63</td>\n",
       "      <td>9.6</td>\n",
       "      <td>379</td>\n",
       "      <td>Moderate</td>\n",
       "    </tr>\n",
       "    <tr>\n",
       "      <th>4998</th>\n",
       "      <td>25.3</td>\n",
       "      <td>44.4</td>\n",
       "      <td>21.4</td>\n",
       "      <td>29.0</td>\n",
       "      <td>23.7</td>\n",
       "      <td>5.7</td>\n",
       "      <td>0.89</td>\n",
       "      <td>11.6</td>\n",
       "      <td>241</td>\n",
       "      <td>Good</td>\n",
       "    </tr>\n",
       "    <tr>\n",
       "      <th>4999</th>\n",
       "      <td>24.1</td>\n",
       "      <td>77.9</td>\n",
       "      <td>81.7</td>\n",
       "      <td>94.3</td>\n",
       "      <td>23.2</td>\n",
       "      <td>10.5</td>\n",
       "      <td>1.38</td>\n",
       "      <td>8.3</td>\n",
       "      <td>461</td>\n",
       "      <td>Moderate</td>\n",
       "    </tr>\n",
       "  </tbody>\n",
       "</table>\n",
       "<p>5000 rows × 10 columns</p>\n",
       "</div>"
      ],
      "text/plain": [
       "      Temperature  Humidity  PM2.5   PM10   NO2   SO2    CO  \\\n",
       "0            29.8      59.1    5.2   17.9  18.9   9.2  1.72   \n",
       "1            28.3      75.6    2.3   12.2  30.8   9.7  1.64   \n",
       "2            23.1      74.7   26.7   33.8  24.4  12.6  1.63   \n",
       "3            27.1      39.1    6.1    6.3  13.5   5.3  1.15   \n",
       "4            26.5      70.7    6.9   16.0  21.9   5.6  1.01   \n",
       "...           ...       ...    ...    ...   ...   ...   ...   \n",
       "4995         40.6      74.1  116.0  126.7  45.5  25.7  2.11   \n",
       "4996         28.1      96.9    6.9   25.0  25.3  10.8  1.54   \n",
       "4997         25.9      78.2   14.2   22.1  34.8   7.8  1.63   \n",
       "4998         25.3      44.4   21.4   29.0  23.7   5.7  0.89   \n",
       "4999         24.1      77.9   81.7   94.3  23.2  10.5  1.38   \n",
       "\n",
       "      Proximity_to_Industrial_Areas  Population_Density Air Quality  \n",
       "0                               6.3                 319    Moderate  \n",
       "1                               6.0                 611    Moderate  \n",
       "2                               5.2                 619    Moderate  \n",
       "3                              11.1                 551        Good  \n",
       "4                              12.7                 303        Good  \n",
       "...                             ...                 ...         ...  \n",
       "4995                            2.8                 765   Hazardous  \n",
       "4996                            5.7                 709    Moderate  \n",
       "4997                            9.6                 379    Moderate  \n",
       "4998                           11.6                 241        Good  \n",
       "4999                            8.3                 461    Moderate  \n",
       "\n",
       "[5000 rows x 10 columns]"
      ]
     },
     "execution_count": 3,
     "metadata": {},
     "output_type": "execute_result"
    }
   ],
   "source": [
    "df = pd.read_csv('updated_pollution_dataset.csv',header=0)\n",
    "df"
   ]
  },
  {
   "cell_type": "code",
   "execution_count": 4,
   "id": "9d265c89",
   "metadata": {
    "execution": {
     "iopub.execute_input": "2025-01-17T09:02:54.072190Z",
     "iopub.status.busy": "2025-01-17T09:02:54.071789Z",
     "iopub.status.idle": "2025-01-17T09:02:54.097281Z",
     "shell.execute_reply": "2025-01-17T09:02:54.095958Z"
    },
    "papermill": {
     "duration": 0.033782,
     "end_time": "2025-01-17T09:02:54.099069",
     "exception": false,
     "start_time": "2025-01-17T09:02:54.065287",
     "status": "completed"
    },
    "tags": []
   },
   "outputs": [
    {
     "name": "stdout",
     "output_type": "stream",
     "text": [
      "<class 'pandas.core.frame.DataFrame'>\n",
      "RangeIndex: 5000 entries, 0 to 4999\n",
      "Data columns (total 10 columns):\n",
      " #   Column                         Non-Null Count  Dtype  \n",
      "---  ------                         --------------  -----  \n",
      " 0   Temperature                    5000 non-null   float64\n",
      " 1   Humidity                       5000 non-null   float64\n",
      " 2   PM2.5                          5000 non-null   float64\n",
      " 3   PM10                           5000 non-null   float64\n",
      " 4   NO2                            5000 non-null   float64\n",
      " 5   SO2                            5000 non-null   float64\n",
      " 6   CO                             5000 non-null   float64\n",
      " 7   Proximity_to_Industrial_Areas  5000 non-null   float64\n",
      " 8   Population_Density             5000 non-null   int64  \n",
      " 9   Air Quality                    5000 non-null   object \n",
      "dtypes: float64(8), int64(1), object(1)\n",
      "memory usage: 390.8+ KB\n"
     ]
    }
   ],
   "source": [
    "df.info()"
   ]
  },
  {
   "cell_type": "code",
   "execution_count": null,
   "id": "3cc7665b",
   "metadata": {
    "execution": {
     "iopub.execute_input": "2025-01-17T09:02:54.111825Z",
     "iopub.status.busy": "2025-01-17T09:02:54.111396Z",
     "iopub.status.idle": "2025-01-17T09:02:54.120379Z",
     "shell.execute_reply": "2025-01-17T09:02:54.119095Z"
    },
    "papermill": {
     "duration": 0.017375,
     "end_time": "2025-01-17T09:02:54.122390",
     "exception": false,
     "start_time": "2025-01-17T09:02:54.105015",
     "status": "completed"
    },
    "tags": []
   },
   "outputs": [
    {
     "data": {
      "text/plain": [
       "Temperature                      0\n",
       "Humidity                         0\n",
       "PM2.5                            0\n",
       "PM10                             0\n",
       "NO2                              0\n",
       "SO2                              0\n",
       "CO                               0\n",
       "Proximity_to_Industrial_Areas    0\n",
       "Population_Density               0\n",
       "Air Quality                      0\n",
       "dtype: int64"
      ]
     },
     "execution_count": 4,
     "metadata": {},
     "output_type": "execute_result"
    }
   ],
   "source": [
    "df.isnull().sum()"
   ]
  },
  {
   "cell_type": "code",
   "execution_count": null,
   "id": "fab795fd",
   "metadata": {
    "execution": {
     "iopub.execute_input": "2025-01-17T09:02:54.135311Z",
     "iopub.status.busy": "2025-01-17T09:02:54.134902Z",
     "iopub.status.idle": "2025-01-17T09:02:54.156640Z",
     "shell.execute_reply": "2025-01-17T09:02:54.155437Z"
    },
    "papermill": {
     "duration": 0.030252,
     "end_time": "2025-01-17T09:02:54.158593",
     "exception": false,
     "start_time": "2025-01-17T09:02:54.128341",
     "status": "completed"
    },
    "tags": []
   },
   "outputs": [
    {
     "data": {
      "text/html": [
       "<div>\n",
       "<style scoped>\n",
       "    .dataframe tbody tr th:only-of-type {\n",
       "        vertical-align: middle;\n",
       "    }\n",
       "\n",
       "    .dataframe tbody tr th {\n",
       "        vertical-align: top;\n",
       "    }\n",
       "\n",
       "    .dataframe thead th {\n",
       "        text-align: right;\n",
       "    }\n",
       "</style>\n",
       "<table border=\"1\" class=\"dataframe\">\n",
       "  <thead>\n",
       "    <tr style=\"text-align: right;\">\n",
       "      <th></th>\n",
       "      <th>Temperature</th>\n",
       "      <th>Humidity</th>\n",
       "      <th>PM2.5</th>\n",
       "      <th>PM10</th>\n",
       "      <th>NO2</th>\n",
       "      <th>SO2</th>\n",
       "      <th>CO</th>\n",
       "      <th>Proximity_to_Industrial_Areas</th>\n",
       "      <th>Population_Density</th>\n",
       "      <th>Air Quality</th>\n",
       "    </tr>\n",
       "  </thead>\n",
       "  <tbody>\n",
       "    <tr>\n",
       "      <th>0</th>\n",
       "      <td>29.8</td>\n",
       "      <td>59.1</td>\n",
       "      <td>5.2</td>\n",
       "      <td>17.9</td>\n",
       "      <td>18.9</td>\n",
       "      <td>9.2</td>\n",
       "      <td>1.72</td>\n",
       "      <td>6.3</td>\n",
       "      <td>319</td>\n",
       "      <td>0</td>\n",
       "    </tr>\n",
       "    <tr>\n",
       "      <th>1</th>\n",
       "      <td>28.3</td>\n",
       "      <td>75.6</td>\n",
       "      <td>2.3</td>\n",
       "      <td>12.2</td>\n",
       "      <td>30.8</td>\n",
       "      <td>9.7</td>\n",
       "      <td>1.64</td>\n",
       "      <td>6.0</td>\n",
       "      <td>611</td>\n",
       "      <td>0</td>\n",
       "    </tr>\n",
       "    <tr>\n",
       "      <th>2</th>\n",
       "      <td>23.1</td>\n",
       "      <td>74.7</td>\n",
       "      <td>26.7</td>\n",
       "      <td>33.8</td>\n",
       "      <td>24.4</td>\n",
       "      <td>12.6</td>\n",
       "      <td>1.63</td>\n",
       "      <td>5.2</td>\n",
       "      <td>619</td>\n",
       "      <td>0</td>\n",
       "    </tr>\n",
       "    <tr>\n",
       "      <th>3</th>\n",
       "      <td>27.1</td>\n",
       "      <td>39.1</td>\n",
       "      <td>6.1</td>\n",
       "      <td>6.3</td>\n",
       "      <td>13.5</td>\n",
       "      <td>5.3</td>\n",
       "      <td>1.15</td>\n",
       "      <td>11.1</td>\n",
       "      <td>551</td>\n",
       "      <td>1</td>\n",
       "    </tr>\n",
       "    <tr>\n",
       "      <th>4</th>\n",
       "      <td>26.5</td>\n",
       "      <td>70.7</td>\n",
       "      <td>6.9</td>\n",
       "      <td>16.0</td>\n",
       "      <td>21.9</td>\n",
       "      <td>5.6</td>\n",
       "      <td>1.01</td>\n",
       "      <td>12.7</td>\n",
       "      <td>303</td>\n",
       "      <td>1</td>\n",
       "    </tr>\n",
       "    <tr>\n",
       "      <th>...</th>\n",
       "      <td>...</td>\n",
       "      <td>...</td>\n",
       "      <td>...</td>\n",
       "      <td>...</td>\n",
       "      <td>...</td>\n",
       "      <td>...</td>\n",
       "      <td>...</td>\n",
       "      <td>...</td>\n",
       "      <td>...</td>\n",
       "      <td>...</td>\n",
       "    </tr>\n",
       "    <tr>\n",
       "      <th>4995</th>\n",
       "      <td>40.6</td>\n",
       "      <td>74.1</td>\n",
       "      <td>116.0</td>\n",
       "      <td>126.7</td>\n",
       "      <td>45.5</td>\n",
       "      <td>25.7</td>\n",
       "      <td>2.11</td>\n",
       "      <td>2.8</td>\n",
       "      <td>765</td>\n",
       "      <td>2</td>\n",
       "    </tr>\n",
       "    <tr>\n",
       "      <th>4996</th>\n",
       "      <td>28.1</td>\n",
       "      <td>96.9</td>\n",
       "      <td>6.9</td>\n",
       "      <td>25.0</td>\n",
       "      <td>25.3</td>\n",
       "      <td>10.8</td>\n",
       "      <td>1.54</td>\n",
       "      <td>5.7</td>\n",
       "      <td>709</td>\n",
       "      <td>0</td>\n",
       "    </tr>\n",
       "    <tr>\n",
       "      <th>4997</th>\n",
       "      <td>25.9</td>\n",
       "      <td>78.2</td>\n",
       "      <td>14.2</td>\n",
       "      <td>22.1</td>\n",
       "      <td>34.8</td>\n",
       "      <td>7.8</td>\n",
       "      <td>1.63</td>\n",
       "      <td>9.6</td>\n",
       "      <td>379</td>\n",
       "      <td>0</td>\n",
       "    </tr>\n",
       "    <tr>\n",
       "      <th>4998</th>\n",
       "      <td>25.3</td>\n",
       "      <td>44.4</td>\n",
       "      <td>21.4</td>\n",
       "      <td>29.0</td>\n",
       "      <td>23.7</td>\n",
       "      <td>5.7</td>\n",
       "      <td>0.89</td>\n",
       "      <td>11.6</td>\n",
       "      <td>241</td>\n",
       "      <td>1</td>\n",
       "    </tr>\n",
       "    <tr>\n",
       "      <th>4999</th>\n",
       "      <td>24.1</td>\n",
       "      <td>77.9</td>\n",
       "      <td>81.7</td>\n",
       "      <td>94.3</td>\n",
       "      <td>23.2</td>\n",
       "      <td>10.5</td>\n",
       "      <td>1.38</td>\n",
       "      <td>8.3</td>\n",
       "      <td>461</td>\n",
       "      <td>0</td>\n",
       "    </tr>\n",
       "  </tbody>\n",
       "</table>\n",
       "<p>5000 rows × 10 columns</p>\n",
       "</div>"
      ],
      "text/plain": [
       "      Temperature  Humidity  PM2.5   PM10   NO2   SO2    CO  \\\n",
       "0            29.8      59.1    5.2   17.9  18.9   9.2  1.72   \n",
       "1            28.3      75.6    2.3   12.2  30.8   9.7  1.64   \n",
       "2            23.1      74.7   26.7   33.8  24.4  12.6  1.63   \n",
       "3            27.1      39.1    6.1    6.3  13.5   5.3  1.15   \n",
       "4            26.5      70.7    6.9   16.0  21.9   5.6  1.01   \n",
       "...           ...       ...    ...    ...   ...   ...   ...   \n",
       "4995         40.6      74.1  116.0  126.7  45.5  25.7  2.11   \n",
       "4996         28.1      96.9    6.9   25.0  25.3  10.8  1.54   \n",
       "4997         25.9      78.2   14.2   22.1  34.8   7.8  1.63   \n",
       "4998         25.3      44.4   21.4   29.0  23.7   5.7  0.89   \n",
       "4999         24.1      77.9   81.7   94.3  23.2  10.5  1.38   \n",
       "\n",
       "      Proximity_to_Industrial_Areas  Population_Density Air Quality  \n",
       "0                               6.3                 319           0  \n",
       "1                               6.0                 611           0  \n",
       "2                               5.2                 619           0  \n",
       "3                              11.1                 551           1  \n",
       "4                              12.7                 303           1  \n",
       "...                             ...                 ...         ...  \n",
       "4995                            2.8                 765           2  \n",
       "4996                            5.7                 709           0  \n",
       "4997                            9.6                 379           0  \n",
       "4998                           11.6                 241           1  \n",
       "4999                            8.3                 461           0  \n",
       "\n",
       "[5000 rows x 10 columns]"
      ]
     },
     "execution_count": 5,
     "metadata": {},
     "output_type": "execute_result"
    }
   ],
   "source": [
    "df_clean2 = df\n",
    "str_colums=[9]\n",
    "for i in str_colums:\n",
    "    df_clean2.iloc[:,i]=pd.factorize(df.iloc[:,i])[0]\n",
    "df_clean2"
   ]
  },
  {
   "cell_type": "code",
   "execution_count": null,
   "id": "7e42387c",
   "metadata": {
    "execution": {
     "iopub.execute_input": "2025-01-17T09:02:54.171717Z",
     "iopub.status.busy": "2025-01-17T09:02:54.171379Z",
     "iopub.status.idle": "2025-01-17T09:02:54.182652Z",
     "shell.execute_reply": "2025-01-17T09:02:54.181316Z"
    },
    "papermill": {
     "duration": 0.019671,
     "end_time": "2025-01-17T09:02:54.184352",
     "exception": false,
     "start_time": "2025-01-17T09:02:54.164681",
     "status": "completed"
    },
    "tags": []
   },
   "outputs": [
    {
     "name": "stdout",
     "output_type": "stream",
     "text": [
      "<class 'pandas.core.frame.DataFrame'>\n",
      "RangeIndex: 5000 entries, 0 to 4999\n",
      "Data columns (total 10 columns):\n",
      " #   Column                         Non-Null Count  Dtype  \n",
      "---  ------                         --------------  -----  \n",
      " 0   Temperature                    5000 non-null   float64\n",
      " 1   Humidity                       5000 non-null   float64\n",
      " 2   PM2.5                          5000 non-null   float64\n",
      " 3   PM10                           5000 non-null   float64\n",
      " 4   NO2                            5000 non-null   float64\n",
      " 5   SO2                            5000 non-null   float64\n",
      " 6   CO                             5000 non-null   float64\n",
      " 7   Proximity_to_Industrial_Areas  5000 non-null   float64\n",
      " 8   Population_Density             5000 non-null   int64  \n",
      " 9   Air Quality                    5000 non-null   object \n",
      "dtypes: float64(8), int64(1), object(1)\n",
      "memory usage: 390.8+ KB\n"
     ]
    }
   ],
   "source": [
    "df_clean2.info()"
   ]
  },
  {
   "cell_type": "code",
   "execution_count": null,
   "id": "1642ace0",
   "metadata": {
    "execution": {
     "iopub.execute_input": "2025-01-17T09:02:54.198842Z",
     "iopub.status.busy": "2025-01-17T09:02:54.198372Z",
     "iopub.status.idle": "2025-01-17T09:02:54.204279Z",
     "shell.execute_reply": "2025-01-17T09:02:54.202931Z"
    },
    "papermill": {
     "duration": 0.016187,
     "end_time": "2025-01-17T09:02:54.206953",
     "exception": false,
     "start_time": "2025-01-17T09:02:54.190766",
     "status": "completed"
    },
    "tags": []
   },
   "outputs": [],
   "source": [
    "df_clean2['Air Quality'] = df_clean2['Air Quality'].astype(int)"
   ]
  },
  {
   "cell_type": "code",
   "execution_count": null,
   "id": "561b7b0d",
   "metadata": {
    "execution": {
     "iopub.execute_input": "2025-01-17T09:02:54.221074Z",
     "iopub.status.busy": "2025-01-17T09:02:54.220729Z",
     "iopub.status.idle": "2025-01-17T09:02:54.231575Z",
     "shell.execute_reply": "2025-01-17T09:02:54.230284Z"
    },
    "papermill": {
     "duration": 0.020345,
     "end_time": "2025-01-17T09:02:54.233757",
     "exception": false,
     "start_time": "2025-01-17T09:02:54.213412",
     "status": "completed"
    },
    "tags": []
   },
   "outputs": [
    {
     "name": "stdout",
     "output_type": "stream",
     "text": [
      "<class 'pandas.core.frame.DataFrame'>\n",
      "RangeIndex: 5000 entries, 0 to 4999\n",
      "Data columns (total 10 columns):\n",
      " #   Column                         Non-Null Count  Dtype  \n",
      "---  ------                         --------------  -----  \n",
      " 0   Temperature                    5000 non-null   float64\n",
      " 1   Humidity                       5000 non-null   float64\n",
      " 2   PM2.5                          5000 non-null   float64\n",
      " 3   PM10                           5000 non-null   float64\n",
      " 4   NO2                            5000 non-null   float64\n",
      " 5   SO2                            5000 non-null   float64\n",
      " 6   CO                             5000 non-null   float64\n",
      " 7   Proximity_to_Industrial_Areas  5000 non-null   float64\n",
      " 8   Population_Density             5000 non-null   int64  \n",
      " 9   Air Quality                    5000 non-null   int32  \n",
      "dtypes: float64(8), int32(1), int64(1)\n",
      "memory usage: 371.2 KB\n"
     ]
    }
   ],
   "source": [
    "df_clean2.info()"
   ]
  },
  {
   "cell_type": "code",
   "execution_count": null,
   "id": "ad0ad886",
   "metadata": {
    "execution": {
     "iopub.execute_input": "2025-01-17T09:02:54.247639Z",
     "iopub.status.busy": "2025-01-17T09:02:54.247214Z",
     "iopub.status.idle": "2025-01-17T09:02:54.253506Z",
     "shell.execute_reply": "2025-01-17T09:02:54.252538Z"
    },
    "papermill": {
     "duration": 0.015328,
     "end_time": "2025-01-17T09:02:54.255375",
     "exception": false,
     "start_time": "2025-01-17T09:02:54.240047",
     "status": "completed"
    },
    "tags": []
   },
   "outputs": [],
   "source": [
    "Xall = df_clean2.drop(['Air Quality'],axis=1).values\n",
    "yall = df_clean2['Air Quality'].values"
   ]
  },
  {
   "cell_type": "code",
   "execution_count": null,
   "id": "39f1a868",
   "metadata": {
    "execution": {
     "iopub.execute_input": "2025-01-17T09:02:54.269071Z",
     "iopub.status.busy": "2025-01-17T09:02:54.268742Z",
     "iopub.status.idle": "2025-01-17T09:02:54.274484Z",
     "shell.execute_reply": "2025-01-17T09:02:54.273578Z"
    },
    "papermill": {
     "duration": 0.014396,
     "end_time": "2025-01-17T09:02:54.276053",
     "exception": false,
     "start_time": "2025-01-17T09:02:54.261657",
     "status": "completed"
    },
    "tags": []
   },
   "outputs": [
    {
     "data": {
      "text/plain": [
       "(5000, 9)"
      ]
     },
     "execution_count": 10,
     "metadata": {},
     "output_type": "execute_result"
    }
   ],
   "source": [
    "Xall.shape"
   ]
  },
  {
   "cell_type": "code",
   "execution_count": null,
   "id": "da88a855",
   "metadata": {
    "execution": {
     "iopub.execute_input": "2025-01-17T09:02:54.289543Z",
     "iopub.status.busy": "2025-01-17T09:02:54.289145Z",
     "iopub.status.idle": "2025-01-17T09:02:54.294707Z",
     "shell.execute_reply": "2025-01-17T09:02:54.293704Z"
    },
    "papermill": {
     "duration": 0.014035,
     "end_time": "2025-01-17T09:02:54.296388",
     "exception": false,
     "start_time": "2025-01-17T09:02:54.282353",
     "status": "completed"
    },
    "tags": []
   },
   "outputs": [
    {
     "data": {
      "text/plain": [
       "(5000,)"
      ]
     },
     "execution_count": 11,
     "metadata": {},
     "output_type": "execute_result"
    }
   ],
   "source": [
    "yall.shape"
   ]
  },
  {
   "cell_type": "code",
   "execution_count": null,
   "id": "eeaafcf3",
   "metadata": {
    "execution": {
     "iopub.execute_input": "2025-01-17T09:02:54.310279Z",
     "iopub.status.busy": "2025-01-17T09:02:54.309906Z",
     "iopub.status.idle": "2025-01-17T09:02:54.317727Z",
     "shell.execute_reply": "2025-01-17T09:02:54.316328Z"
    },
    "papermill": {
     "duration": 0.016821,
     "end_time": "2025-01-17T09:02:54.319706",
     "exception": false,
     "start_time": "2025-01-17T09:02:54.302885",
     "status": "completed"
    },
    "tags": []
   },
   "outputs": [
    {
     "data": {
      "text/plain": [
       "[2000, 1500]"
      ]
     },
     "execution_count": 12,
     "metadata": {},
     "output_type": "execute_result"
    }
   ],
   "source": [
    "[sum(yall==1),sum(yall==0)]"
   ]
  },
  {
   "cell_type": "code",
   "execution_count": null,
   "id": "94699cd4",
   "metadata": {
    "execution": {
     "iopub.execute_input": "2025-01-17T09:02:54.333807Z",
     "iopub.status.busy": "2025-01-17T09:02:54.333377Z",
     "iopub.status.idle": "2025-01-17T09:02:56.124536Z",
     "shell.execute_reply": "2025-01-17T09:02:56.123378Z"
    },
    "papermill": {
     "duration": 1.800456,
     "end_time": "2025-01-17T09:02:56.126581",
     "exception": false,
     "start_time": "2025-01-17T09:02:54.326125",
     "status": "completed"
    },
    "tags": []
   },
   "outputs": [],
   "source": [
    "from sklearn.model_selection import train_test_split\n",
    "X, Xt, y, yt = train_test_split(Xall, yall, test_size=0.2, stratify=yall, random_state=0)\n"
   ]
  },
  {
   "cell_type": "code",
   "execution_count": null,
   "id": "c16bc56f",
   "metadata": {
    "execution": {
     "iopub.execute_input": "2025-01-17T09:02:56.141215Z",
     "iopub.status.busy": "2025-01-17T09:02:56.140638Z",
     "iopub.status.idle": "2025-01-17T09:02:56.149023Z",
     "shell.execute_reply": "2025-01-17T09:02:56.147929Z"
    },
    "papermill": {
     "duration": 0.017647,
     "end_time": "2025-01-17T09:02:56.150979",
     "exception": false,
     "start_time": "2025-01-17T09:02:56.133332",
     "status": "completed"
    },
    "tags": []
   },
   "outputs": [],
   "source": [
    "from sklearn.preprocessing import MinMaxScaler\n",
    "scl = MinMaxScaler().fit(X)\n",
    "X = scl.transform(X)\n",
    "Xt = scl.transform(Xt)"
   ]
  },
  {
   "cell_type": "code",
   "execution_count": null,
   "id": "e37a57e1",
   "metadata": {
    "execution": {
     "iopub.execute_input": "2025-01-17T09:02:56.165094Z",
     "iopub.status.busy": "2025-01-17T09:02:56.164721Z",
     "iopub.status.idle": "2025-01-17T09:03:00.151695Z",
     "shell.execute_reply": "2025-01-17T09:03:00.150589Z"
    },
    "papermill": {
     "duration": 3.996165,
     "end_time": "2025-01-17T09:03:00.153654",
     "exception": false,
     "start_time": "2025-01-17T09:02:56.157489",
     "status": "completed"
    },
    "tags": []
   },
   "outputs": [],
   "source": [
    "from sklearn.svm import SVC\n",
    "from sklearn.svm import LinearSVC\n",
    "from sklearn.ensemble import RandomForestClassifier\n",
    "from sklearn.ensemble import ExtraTreesClassifier\n",
    "from xgboost import XGBClassifier\n",
    "from sklearn.neural_network import MLPClassifier\n",
    "from sklearn.naive_bayes import GaussianNB\n",
    "from sklearn.neighbors import KNeighborsClassifier\n",
    "from sklearn.tree import DecisionTreeClassifier\n",
    "from sklearn.linear_model import LogisticRegression\n",
    "from lightgbm import LGBMClassifier\n",
    "from sklearn.discriminant_analysis import LinearDiscriminantAnalysis\n",
    "\n",
    "file = open('PLS.py','w')\n",
    "file.write('import numpy as np'+\"\\n\")\n",
    "file.write('from sklearn.cross_decomposition import PLSRegression'+\"\\n\")\n",
    "file.write('from sklearn.base import BaseEstimator, ClassifierMixin'+\"\\n\")\n",
    "file.write('class PLS(BaseEstimator, ClassifierMixin):'+\"\\n\")\n",
    "file.write('    def __init__(self, iter=500):'+\"\\n\")\n",
    "file.write('        self.iter = iter'+\"\\n\")\n",
    "file.write('        self.clf = PLSRegression(n_components=2, max_iter=self.iter)'+\"\\n\")\n",
    "file.write('    def fit(self, X, y):'+\"\\n\")\n",
    "file.write('        self.classes_ = np.unique(y)'+\"\\n\")\n",
    "file.write('        self.clf.fit(X,y)'+\"\\n\")\n",
    "file.write('        return self'+\"\\n\")\n",
    "file.write('    def predict(self, X):'+\"\\n\")\n",
    "file.write('        pr = [np.round(min(max(item[0],0.000001),0.999999)) for item in self.clf.predict(X)]'+\"\\n\")\n",
    "file.write('        return np.array(pr)'+\"\\n\")\n",
    "file.write('    def predict_proba(self, X):'+\"\\n\")\n",
    "file.write('        p_all = []'+\"\\n\")\n",
    "file.write('        p_all.append([1-min(max(item[0],0.000001),0.99999) for item in self.clf.predict(X)])'+\"\\n\")\n",
    "file.write('        p_all.append([min(max(item[0],0.000001),0.99999) for item in self.clf.predict(X)])'+\"\\n\")\n",
    "file.write('        return np.transpose(np.array(p_all))'+\"\\n\")\n",
    "file.close()\n",
    "\n",
    "from PLS import PLS"
   ]
  },
  {
   "cell_type": "code",
   "execution_count": null,
   "id": "c641071d",
   "metadata": {
    "execution": {
     "iopub.execute_input": "2025-01-17T09:03:00.168324Z",
     "iopub.status.busy": "2025-01-17T09:03:00.167578Z",
     "iopub.status.idle": "2025-01-17T09:03:00.173959Z",
     "shell.execute_reply": "2025-01-17T09:03:00.172982Z"
    },
    "papermill": {
     "duration": 0.0152,
     "end_time": "2025-01-17T09:03:00.175559",
     "exception": false,
     "start_time": "2025-01-17T09:03:00.160359",
     "status": "completed"
    },
    "tags": []
   },
   "outputs": [],
   "source": [
    "from sklearn import metrics\n",
    "from sklearn.preprocessing import LabelBinarizer\n",
    "def perf_eval_mul(y_test, y_prob):  \n",
    "    yp = np.argmax(y_prob, axis=1)\n",
    "    ACC = metrics.balanced_accuracy_score(y_test, yp)\n",
    "    REC = metrics.recall_score(y_test, yp, average='macro')\n",
    "    PRE = metrics.precision_score(y_test, yp, average='macro')\n",
    "    MCC = metrics.matthews_corrcoef(y_test, yp)\n",
    "    F1 = metrics.f1_score(y_test, yp, average='macro')\n",
    "    y_onehot_test = LabelBinarizer().fit_transform(y_test)\n",
    "    AUC = metrics.roc_auc_score(y_onehot_test, y_prob, average='macro', multi_class='ovr')\n",
    "    return [ACC, MCC, AUC, PRE, REC, F1]\n"
   ]
  },
  {
   "cell_type": "code",
   "execution_count": null,
   "id": "e5212c8b",
   "metadata": {
    "execution": {
     "iopub.execute_input": "2025-01-17T09:03:00.189418Z",
     "iopub.status.busy": "2025-01-17T09:03:00.189013Z",
     "iopub.status.idle": "2025-01-17T09:03:14.096279Z",
     "shell.execute_reply": "2025-01-17T09:03:14.095070Z"
    },
    "papermill": {
     "duration": 13.916228,
     "end_time": "2025-01-17T09:03:14.098175",
     "exception": false,
     "start_time": "2025-01-17T09:03:00.181947",
     "status": "completed"
    },
    "tags": []
   },
   "outputs": [
    {
     "data": {
      "text/plain": [
       "[0.92140625,\n",
       " 0.92670219512164,\n",
       " 0.9926523034474206,\n",
       " 0.9281165744657001,\n",
       " 0.92140625,\n",
       " 0.9246386047842523]"
      ]
     },
     "execution_count": 17,
     "metadata": {},
     "output_type": "execute_result"
    }
   ],
   "source": [
    "from sklearn.model_selection import GridSearchCV\n",
    "from sklearn.model_selection import cross_val_predict\n",
    "param = [1,2]\n",
    "clf = SVC(random_state=0, probability=True)\n",
    "clf = GridSearchCV(estimator= clf, param_grid={'C': param }, cv=10).fit(X,y)\n",
    "yp = cross_val_predict(clf.best_estimator_, X, y, cv=10, method = 'predict_proba')\n",
    "perf_eval_mul(y,yp)"
   ]
  },
  {
   "cell_type": "code",
   "execution_count": null,
   "id": "2b51b5e5",
   "metadata": {
    "execution": {
     "iopub.execute_input": "2025-01-17T09:03:14.113181Z",
     "iopub.status.busy": "2025-01-17T09:03:14.112811Z",
     "iopub.status.idle": "2025-01-17T09:03:14.667976Z",
     "shell.execute_reply": "2025-01-17T09:03:14.666561Z"
    },
    "papermill": {
     "duration": 0.565046,
     "end_time": "2025-01-17T09:03:14.669878",
     "exception": false,
     "start_time": "2025-01-17T09:03:14.104832",
     "status": "completed"
    },
    "tags": []
   },
   "outputs": [
    {
     "data": {
      "text/plain": [
       "[0.913125,\n",
       " 0.9199040852182169,\n",
       " 0.9932798363095238,\n",
       " 0.9250249955896378,\n",
       " 0.913125,\n",
       " 0.9186794795695805]"
      ]
     },
     "execution_count": 18,
     "metadata": {},
     "output_type": "execute_result"
    }
   ],
   "source": [
    "clf = clf.best_estimator_\n",
    "clf.fit(X, y)\n",
    "ytp = clf.predict_proba(Xt)\n",
    "perf_eval_mul(yt,ytp)"
   ]
  },
  {
   "cell_type": "code",
   "execution_count": null,
   "id": "c7261a59",
   "metadata": {
    "execution": {
     "iopub.execute_input": "2025-01-17T09:03:14.684372Z",
     "iopub.status.busy": "2025-01-17T09:03:14.683960Z",
     "iopub.status.idle": "2025-01-17T09:03:40.693965Z",
     "shell.execute_reply": "2025-01-17T09:03:40.692816Z"
    },
    "papermill": {
     "duration": 26.019333,
     "end_time": "2025-01-17T09:03:40.695918",
     "exception": false,
     "start_time": "2025-01-17T09:03:14.676585",
     "status": "completed"
    },
    "tags": []
   },
   "outputs": [
    {
     "data": {
      "text/plain": [
       "[0.9298437500000001,\n",
       " 0.9360144790330118,\n",
       " 0.9926775088355654,\n",
       " 0.9376599868352895,\n",
       " 0.9298437500000001,\n",
       " 0.9335603114683481]"
      ]
     },
     "execution_count": 19,
     "metadata": {},
     "output_type": "execute_result"
    }
   ],
   "source": [
    "from sklearn.ensemble import RandomForestClassifier\n",
    "from sklearn.model_selection import GridSearchCV, cross_val_predict\n",
    "\n",
    "\n",
    "param = {'n_estimators': [50, 100], 'max_depth': [None, 10]}\n",
    "clf = RandomForestClassifier(random_state=0)\n",
    "clf = GridSearchCV(estimator=clf, param_grid=param, cv=10, scoring='accuracy')\n",
    "clf.fit(X, y)\n",
    "yp = cross_val_predict(clf.best_estimator_, X, y, cv=10, method='predict_proba')\n",
    "perf_eval_mul(y, yp)\n"
   ]
  },
  {
   "cell_type": "code",
   "execution_count": null,
   "id": "ef2f2838",
   "metadata": {
    "execution": {
     "iopub.execute_input": "2025-01-17T09:03:40.711153Z",
     "iopub.status.busy": "2025-01-17T09:03:40.710777Z",
     "iopub.status.idle": "2025-01-17T09:03:41.147870Z",
     "shell.execute_reply": "2025-01-17T09:03:41.146796Z"
    },
    "papermill": {
     "duration": 0.446845,
     "end_time": "2025-01-17T09:03:41.149832",
     "exception": false,
     "start_time": "2025-01-17T09:03:40.702987",
     "status": "completed"
    },
    "tags": []
   },
   "outputs": [
    {
     "data": {
      "text/plain": [
       "[0.9141666666666667,\n",
       " 0.9314772644207084,\n",
       " 0.9922923859126984,\n",
       " 0.9442919824233491,\n",
       " 0.9141666666666667,\n",
       " 0.9264027262785323]"
      ]
     },
     "execution_count": 20,
     "metadata": {},
     "output_type": "execute_result"
    }
   ],
   "source": [
    "clf = clf.best_estimator_\n",
    "clf.fit(X, y)\n",
    "ytp = clf.predict_proba(Xt)\n",
    "perf_eval_mul(yt,ytp)"
   ]
  },
  {
   "cell_type": "code",
   "execution_count": null,
   "id": "97248ff5",
   "metadata": {
    "execution": {
     "iopub.execute_input": "2025-01-17T09:03:41.164851Z",
     "iopub.status.busy": "2025-01-17T09:03:41.164479Z",
     "iopub.status.idle": "2025-01-17T09:03:48.799284Z",
     "shell.execute_reply": "2025-01-17T09:03:48.798077Z"
    },
    "papermill": {
     "duration": 7.644456,
     "end_time": "2025-01-17T09:03:48.801151",
     "exception": false,
     "start_time": "2025-01-17T09:03:41.156695",
     "status": "completed"
    },
    "tags": []
   },
   "outputs": [
    {
     "name": "stderr",
     "output_type": "stream",
     "text": [
      "c:\\Users\\HP\\AppData\\Local\\Programs\\Python\\Python312\\Lib\\site-packages\\xgboost\\core.py:158: UserWarning: [11:31:45] WARNING: C:\\buildkite-agent\\builds\\buildkite-windows-cpu-autoscaling-group-i-08cbc0333d8d4aae1-1\\xgboost\\xgboost-ci-windows\\src\\learner.cc:740: \n",
      "Parameters: { \"use_label_encoder\" } are not used.\n",
      "\n",
      "  warnings.warn(smsg, UserWarning)\n",
      "c:\\Users\\HP\\AppData\\Local\\Programs\\Python\\Python312\\Lib\\site-packages\\xgboost\\core.py:158: UserWarning: [11:31:47] WARNING: C:\\buildkite-agent\\builds\\buildkite-windows-cpu-autoscaling-group-i-08cbc0333d8d4aae1-1\\xgboost\\xgboost-ci-windows\\src\\learner.cc:740: \n",
      "Parameters: { \"use_label_encoder\" } are not used.\n",
      "\n",
      "  warnings.warn(smsg, UserWarning)\n",
      "c:\\Users\\HP\\AppData\\Local\\Programs\\Python\\Python312\\Lib\\site-packages\\xgboost\\core.py:158: UserWarning: [11:31:48] WARNING: C:\\buildkite-agent\\builds\\buildkite-windows-cpu-autoscaling-group-i-08cbc0333d8d4aae1-1\\xgboost\\xgboost-ci-windows\\src\\learner.cc:740: \n",
      "Parameters: { \"use_label_encoder\" } are not used.\n",
      "\n",
      "  warnings.warn(smsg, UserWarning)\n",
      "c:\\Users\\HP\\AppData\\Local\\Programs\\Python\\Python312\\Lib\\site-packages\\xgboost\\core.py:158: UserWarning: [11:31:48] WARNING: C:\\buildkite-agent\\builds\\buildkite-windows-cpu-autoscaling-group-i-08cbc0333d8d4aae1-1\\xgboost\\xgboost-ci-windows\\src\\learner.cc:740: \n",
      "Parameters: { \"use_label_encoder\" } are not used.\n",
      "\n",
      "  warnings.warn(smsg, UserWarning)\n",
      "c:\\Users\\HP\\AppData\\Local\\Programs\\Python\\Python312\\Lib\\site-packages\\xgboost\\core.py:158: UserWarning: [11:31:48] WARNING: C:\\buildkite-agent\\builds\\buildkite-windows-cpu-autoscaling-group-i-08cbc0333d8d4aae1-1\\xgboost\\xgboost-ci-windows\\src\\learner.cc:740: \n",
      "Parameters: { \"use_label_encoder\" } are not used.\n",
      "\n",
      "  warnings.warn(smsg, UserWarning)\n",
      "c:\\Users\\HP\\AppData\\Local\\Programs\\Python\\Python312\\Lib\\site-packages\\xgboost\\core.py:158: UserWarning: [11:31:49] WARNING: C:\\buildkite-agent\\builds\\buildkite-windows-cpu-autoscaling-group-i-08cbc0333d8d4aae1-1\\xgboost\\xgboost-ci-windows\\src\\learner.cc:740: \n",
      "Parameters: { \"use_label_encoder\" } are not used.\n",
      "\n",
      "  warnings.warn(smsg, UserWarning)\n",
      "c:\\Users\\HP\\AppData\\Local\\Programs\\Python\\Python312\\Lib\\site-packages\\xgboost\\core.py:158: UserWarning: [11:31:49] WARNING: C:\\buildkite-agent\\builds\\buildkite-windows-cpu-autoscaling-group-i-08cbc0333d8d4aae1-1\\xgboost\\xgboost-ci-windows\\src\\learner.cc:740: \n",
      "Parameters: { \"use_label_encoder\" } are not used.\n",
      "\n",
      "  warnings.warn(smsg, UserWarning)\n",
      "c:\\Users\\HP\\AppData\\Local\\Programs\\Python\\Python312\\Lib\\site-packages\\xgboost\\core.py:158: UserWarning: [11:31:50] WARNING: C:\\buildkite-agent\\builds\\buildkite-windows-cpu-autoscaling-group-i-08cbc0333d8d4aae1-1\\xgboost\\xgboost-ci-windows\\src\\learner.cc:740: \n",
      "Parameters: { \"use_label_encoder\" } are not used.\n",
      "\n",
      "  warnings.warn(smsg, UserWarning)\n",
      "c:\\Users\\HP\\AppData\\Local\\Programs\\Python\\Python312\\Lib\\site-packages\\xgboost\\core.py:158: UserWarning: [11:31:50] WARNING: C:\\buildkite-agent\\builds\\buildkite-windows-cpu-autoscaling-group-i-08cbc0333d8d4aae1-1\\xgboost\\xgboost-ci-windows\\src\\learner.cc:740: \n",
      "Parameters: { \"use_label_encoder\" } are not used.\n",
      "\n",
      "  warnings.warn(smsg, UserWarning)\n",
      "c:\\Users\\HP\\AppData\\Local\\Programs\\Python\\Python312\\Lib\\site-packages\\xgboost\\core.py:158: UserWarning: [11:31:50] WARNING: C:\\buildkite-agent\\builds\\buildkite-windows-cpu-autoscaling-group-i-08cbc0333d8d4aae1-1\\xgboost\\xgboost-ci-windows\\src\\learner.cc:740: \n",
      "Parameters: { \"use_label_encoder\" } are not used.\n",
      "\n",
      "  warnings.warn(smsg, UserWarning)\n",
      "c:\\Users\\HP\\AppData\\Local\\Programs\\Python\\Python312\\Lib\\site-packages\\xgboost\\core.py:158: UserWarning: [11:31:50] WARNING: C:\\buildkite-agent\\builds\\buildkite-windows-cpu-autoscaling-group-i-08cbc0333d8d4aae1-1\\xgboost\\xgboost-ci-windows\\src\\learner.cc:740: \n",
      "Parameters: { \"use_label_encoder\" } are not used.\n",
      "\n",
      "  warnings.warn(smsg, UserWarning)\n",
      "c:\\Users\\HP\\AppData\\Local\\Programs\\Python\\Python312\\Lib\\site-packages\\xgboost\\core.py:158: UserWarning: [11:31:51] WARNING: C:\\buildkite-agent\\builds\\buildkite-windows-cpu-autoscaling-group-i-08cbc0333d8d4aae1-1\\xgboost\\xgboost-ci-windows\\src\\learner.cc:740: \n",
      "Parameters: { \"use_label_encoder\" } are not used.\n",
      "\n",
      "  warnings.warn(smsg, UserWarning)\n",
      "c:\\Users\\HP\\AppData\\Local\\Programs\\Python\\Python312\\Lib\\site-packages\\xgboost\\core.py:158: UserWarning: [11:31:52] WARNING: C:\\buildkite-agent\\builds\\buildkite-windows-cpu-autoscaling-group-i-08cbc0333d8d4aae1-1\\xgboost\\xgboost-ci-windows\\src\\learner.cc:740: \n",
      "Parameters: { \"use_label_encoder\" } are not used.\n",
      "\n",
      "  warnings.warn(smsg, UserWarning)\n",
      "c:\\Users\\HP\\AppData\\Local\\Programs\\Python\\Python312\\Lib\\site-packages\\xgboost\\core.py:158: UserWarning: [11:31:52] WARNING: C:\\buildkite-agent\\builds\\buildkite-windows-cpu-autoscaling-group-i-08cbc0333d8d4aae1-1\\xgboost\\xgboost-ci-windows\\src\\learner.cc:740: \n",
      "Parameters: { \"use_label_encoder\" } are not used.\n",
      "\n",
      "  warnings.warn(smsg, UserWarning)\n",
      "c:\\Users\\HP\\AppData\\Local\\Programs\\Python\\Python312\\Lib\\site-packages\\xgboost\\core.py:158: UserWarning: [11:31:53] WARNING: C:\\buildkite-agent\\builds\\buildkite-windows-cpu-autoscaling-group-i-08cbc0333d8d4aae1-1\\xgboost\\xgboost-ci-windows\\src\\learner.cc:740: \n",
      "Parameters: { \"use_label_encoder\" } are not used.\n",
      "\n",
      "  warnings.warn(smsg, UserWarning)\n",
      "c:\\Users\\HP\\AppData\\Local\\Programs\\Python\\Python312\\Lib\\site-packages\\xgboost\\core.py:158: UserWarning: [11:31:53] WARNING: C:\\buildkite-agent\\builds\\buildkite-windows-cpu-autoscaling-group-i-08cbc0333d8d4aae1-1\\xgboost\\xgboost-ci-windows\\src\\learner.cc:740: \n",
      "Parameters: { \"use_label_encoder\" } are not used.\n",
      "\n",
      "  warnings.warn(smsg, UserWarning)\n",
      "c:\\Users\\HP\\AppData\\Local\\Programs\\Python\\Python312\\Lib\\site-packages\\xgboost\\core.py:158: UserWarning: [11:31:54] WARNING: C:\\buildkite-agent\\builds\\buildkite-windows-cpu-autoscaling-group-i-08cbc0333d8d4aae1-1\\xgboost\\xgboost-ci-windows\\src\\learner.cc:740: \n",
      "Parameters: { \"use_label_encoder\" } are not used.\n",
      "\n",
      "  warnings.warn(smsg, UserWarning)\n",
      "c:\\Users\\HP\\AppData\\Local\\Programs\\Python\\Python312\\Lib\\site-packages\\xgboost\\core.py:158: UserWarning: [11:31:55] WARNING: C:\\buildkite-agent\\builds\\buildkite-windows-cpu-autoscaling-group-i-08cbc0333d8d4aae1-1\\xgboost\\xgboost-ci-windows\\src\\learner.cc:740: \n",
      "Parameters: { \"use_label_encoder\" } are not used.\n",
      "\n",
      "  warnings.warn(smsg, UserWarning)\n",
      "c:\\Users\\HP\\AppData\\Local\\Programs\\Python\\Python312\\Lib\\site-packages\\xgboost\\core.py:158: UserWarning: [11:31:55] WARNING: C:\\buildkite-agent\\builds\\buildkite-windows-cpu-autoscaling-group-i-08cbc0333d8d4aae1-1\\xgboost\\xgboost-ci-windows\\src\\learner.cc:740: \n",
      "Parameters: { \"use_label_encoder\" } are not used.\n",
      "\n",
      "  warnings.warn(smsg, UserWarning)\n",
      "c:\\Users\\HP\\AppData\\Local\\Programs\\Python\\Python312\\Lib\\site-packages\\xgboost\\core.py:158: UserWarning: [11:31:56] WARNING: C:\\buildkite-agent\\builds\\buildkite-windows-cpu-autoscaling-group-i-08cbc0333d8d4aae1-1\\xgboost\\xgboost-ci-windows\\src\\learner.cc:740: \n",
      "Parameters: { \"use_label_encoder\" } are not used.\n",
      "\n",
      "  warnings.warn(smsg, UserWarning)\n",
      "c:\\Users\\HP\\AppData\\Local\\Programs\\Python\\Python312\\Lib\\site-packages\\xgboost\\core.py:158: UserWarning: [11:31:56] WARNING: C:\\buildkite-agent\\builds\\buildkite-windows-cpu-autoscaling-group-i-08cbc0333d8d4aae1-1\\xgboost\\xgboost-ci-windows\\src\\learner.cc:740: \n",
      "Parameters: { \"use_label_encoder\" } are not used.\n",
      "\n",
      "  warnings.warn(smsg, UserWarning)\n",
      "c:\\Users\\HP\\AppData\\Local\\Programs\\Python\\Python312\\Lib\\site-packages\\xgboost\\core.py:158: UserWarning: [11:31:57] WARNING: C:\\buildkite-agent\\builds\\buildkite-windows-cpu-autoscaling-group-i-08cbc0333d8d4aae1-1\\xgboost\\xgboost-ci-windows\\src\\learner.cc:740: \n",
      "Parameters: { \"use_label_encoder\" } are not used.\n",
      "\n",
      "  warnings.warn(smsg, UserWarning)\n",
      "c:\\Users\\HP\\AppData\\Local\\Programs\\Python\\Python312\\Lib\\site-packages\\xgboost\\core.py:158: UserWarning: [11:31:58] WARNING: C:\\buildkite-agent\\builds\\buildkite-windows-cpu-autoscaling-group-i-08cbc0333d8d4aae1-1\\xgboost\\xgboost-ci-windows\\src\\learner.cc:740: \n",
      "Parameters: { \"use_label_encoder\" } are not used.\n",
      "\n",
      "  warnings.warn(smsg, UserWarning)\n",
      "c:\\Users\\HP\\AppData\\Local\\Programs\\Python\\Python312\\Lib\\site-packages\\xgboost\\core.py:158: UserWarning: [11:31:59] WARNING: C:\\buildkite-agent\\builds\\buildkite-windows-cpu-autoscaling-group-i-08cbc0333d8d4aae1-1\\xgboost\\xgboost-ci-windows\\src\\learner.cc:740: \n",
      "Parameters: { \"use_label_encoder\" } are not used.\n",
      "\n",
      "  warnings.warn(smsg, UserWarning)\n",
      "c:\\Users\\HP\\AppData\\Local\\Programs\\Python\\Python312\\Lib\\site-packages\\xgboost\\core.py:158: UserWarning: [11:32:00] WARNING: C:\\buildkite-agent\\builds\\buildkite-windows-cpu-autoscaling-group-i-08cbc0333d8d4aae1-1\\xgboost\\xgboost-ci-windows\\src\\learner.cc:740: \n",
      "Parameters: { \"use_label_encoder\" } are not used.\n",
      "\n",
      "  warnings.warn(smsg, UserWarning)\n"
     ]
    },
    {
     "data": {
      "text/plain": [
       "[0.9261458333333333,\n",
       " 0.9310096180559531,\n",
       " 0.9940764214409722,\n",
       " 0.9319107542388293,\n",
       " 0.9261458333333333,\n",
       " 0.9289301875206095]"
      ]
     },
     "execution_count": 21,
     "metadata": {},
     "output_type": "execute_result"
    }
   ],
   "source": [
    "from xgboost import XGBClassifier\n",
    "from sklearn.model_selection import GridSearchCV, cross_val_predict\n",
    "\n",
    "\n",
    "param = {\n",
    "    'n_estimators': [50, 100]\n",
    "}\n",
    "\n",
    "\n",
    "clf = XGBClassifier(random_state=0, use_label_encoder=False, eval_metric='logloss')\n",
    "\n",
    "\n",
    "clf = GridSearchCV(estimator=clf, param_grid=param, cv=10, scoring='accuracy')\n",
    "clf.fit(X, y)\n",
    "\n",
    "\n",
    "yp = cross_val_predict(clf.best_estimator_, X, y, cv=10, method='predict_proba')\n",
    "\n",
    "\n",
    "perf_eval_mul(y, yp)\n"
   ]
  },
  {
   "cell_type": "code",
   "execution_count": null,
   "id": "fcfa8209",
   "metadata": {
    "execution": {
     "iopub.execute_input": "2025-01-17T09:03:48.816932Z",
     "iopub.status.busy": "2025-01-17T09:03:48.816549Z",
     "iopub.status.idle": "2025-01-17T09:03:49.041677Z",
     "shell.execute_reply": "2025-01-17T09:03:49.040835Z"
    },
    "papermill": {
     "duration": 0.234858,
     "end_time": "2025-01-17T09:03:49.043549",
     "exception": false,
     "start_time": "2025-01-17T09:03:48.808691",
     "status": "completed"
    },
    "tags": []
   },
   "outputs": [
    {
     "name": "stderr",
     "output_type": "stream",
     "text": [
      "c:\\Users\\HP\\AppData\\Local\\Programs\\Python\\Python312\\Lib\\site-packages\\xgboost\\core.py:158: UserWarning: [11:33:28] WARNING: C:\\buildkite-agent\\builds\\buildkite-windows-cpu-autoscaling-group-i-08cbc0333d8d4aae1-1\\xgboost\\xgboost-ci-windows\\src\\learner.cc:740: \n",
      "Parameters: { \"use_label_encoder\" } are not used.\n",
      "\n",
      "  warnings.warn(smsg, UserWarning)\n"
     ]
    },
    {
     "data": {
      "text/plain": [
       "[0.9116666666666666,\n",
       " 0.9241752073147421,\n",
       " 0.9925111607142856,\n",
       " 0.9324966260102523,\n",
       " 0.9116666666666666,\n",
       " 0.9209417955976089]"
      ]
     },
     "execution_count": 22,
     "metadata": {},
     "output_type": "execute_result"
    }
   ],
   "source": [
    "clf = clf.best_estimator_\n",
    "clf.fit(X, y)\n",
    "ytp = clf.predict_proba(Xt)\n",
    "perf_eval_mul(yt,ytp)"
   ]
  },
  {
   "cell_type": "code",
   "execution_count": null,
   "id": "6379285f",
   "metadata": {
    "papermill": {
     "duration": 0.006585,
     "end_time": "2025-01-17T09:03:49.057382",
     "exception": false,
     "start_time": "2025-01-17T09:03:49.050797",
     "status": "completed"
    },
    "tags": []
   },
   "outputs": [],
   "source": []
  }
 ],
 "metadata": {
  "kaggle": {
   "accelerator": "none",
   "dataSources": [
    {
     "datasetId": 2602633,
     "sourceId": 4470781,
     "sourceType": "datasetVersion"
    },
    {
     "datasetId": 6405428,
     "sourceId": 10343875,
     "sourceType": "datasetVersion"
    },
    {
     "datasetId": 6415080,
     "sourceId": 10358528,
     "sourceType": "datasetVersion"
    },
    {
     "datasetId": 6463146,
     "sourceId": 10442053,
     "sourceType": "datasetVersion"
    },
    {
     "datasetId": 6197184,
     "sourceId": 10100743,
     "sourceType": "datasetVersion"
    }
   ],
   "dockerImageVersionId": 30839,
   "isGpuEnabled": false,
   "isInternetEnabled": true,
   "language": "python",
   "sourceType": "notebook"
  },
  "kernelspec": {
   "display_name": "Python 3",
   "language": "python",
   "name": "python3"
  },
  "language_info": {
   "codemirror_mode": {
    "name": "ipython",
    "version": 3
   },
   "file_extension": ".py",
   "mimetype": "text/x-python",
   "name": "python",
   "nbconvert_exporter": "python",
   "pygments_lexer": "ipython3",
   "version": "3.12.9"
  },
  "papermill": {
   "default_parameters": {},
   "duration": 60.094243,
   "end_time": "2025-01-17T09:03:50.086619",
   "environment_variables": {},
   "exception": null,
   "input_path": "__notebook__.ipynb",
   "output_path": "__notebook__.ipynb",
   "parameters": {},
   "start_time": "2025-01-17T09:02:49.992376",
   "version": "2.6.0"
  }
 },
 "nbformat": 4,
 "nbformat_minor": 5
}
